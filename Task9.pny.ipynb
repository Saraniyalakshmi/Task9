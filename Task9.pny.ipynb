{
 "cells": [
  {
   "cell_type": "code",
   "execution_count": 73,
   "metadata": {},
   "outputs": [
    {
     "name": "stdout",
     "output_type": "stream",
     "text": [
      "[10, 501, 22, 37, 100, 999, 87, 351]\n"
     ]
    }
   ],
   "source": [
    "#1.Expected Output-Everything would be printed since condition evaluates to true\n",
    "data=[10,501,22,37,100,999,87,351]\n",
    "result=filter(lambda x:x>4,data)\n",
    "print(list(result))"
   ]
  },
  {
   "cell_type": "code",
   "execution_count": 74,
   "metadata": {},
   "outputs": [
    {
     "name": "stdout",
     "output_type": "stream",
     "text": [
      "[True, True, True, False, True, False]\n"
     ]
    }
   ],
   "source": [
    "#2.check if element is integer or string\n",
    "my_list = [1,2, \"Saraniya\", 3.14, \"Lakshmi\", 42.42]\n",
    "\n",
    "# Define lambda function to check if element is integer or string\n",
    "check_type = lambda x: isinstance(x, int) or isinstance(x, str)\n",
    "\n",
    "# Use map function to apply lambda function to each element of the list\n",
    "result = list(map(check_type, my_list))\n",
    "\n",
    "print(result)\n"
   ]
  },
  {
   "cell_type": "code",
   "execution_count": 75,
   "metadata": {},
   "outputs": [
    {
     "name": "stdout",
     "output_type": "stream",
     "text": [
      "[0, 1, 1, 2, 3, 5, 8, 13, 21, 34]\n"
     ]
    }
   ],
   "source": [
    "#3.fibonacci_series\n",
    "from functools import reduce\n",
    "\n",
    "fibonacci_series = lambda n: reduce(lambda x, _: x + [x[-1] + x[-2]], range(n - 2), [0, 1])[:50]\n",
    "\n",
    "fib_series = fibonacci_series(10)\n",
    "print(fib_series)"
   ]
  },
  {
   "cell_type": "code",
   "execution_count": 72,
   "metadata": {},
   "outputs": [
    {
     "name": "stdout",
     "output_type": "stream",
     "text": [
      "Email check: ('saraniyalakshmigmail.com', 'Invalid email address')\n",
      "Bangladesh number check ('+8801712345678', 'Valid Bangladesh number')\n",
      "USA number check ('+1 (12) 456-7890', 'Invalid USA number')\n",
      "Password check ('Miracles@1234567', 'Valid password')\n"
     ]
    }
   ],
   "source": [
    "#4.Regular ExpressionValidation\n",
    "\n",
    "import re\n",
    "\n",
    "def validate_email(email):\n",
    "    pattern = r'^[a-zA-Z0-9._%+-]+@[a-zA-Z0-9.-]+\\.[a-zA-Z]{2,}$'\n",
    "    is_valid = re.match(pattern, email) is not None\n",
    "    result_text = \"Valid email address\" if is_valid else \"Invalid email address\"\n",
    "    return email, result_text\n",
    "\n",
    "def validate_bangladesh_mobile_number(number):\n",
    "    pattern = r'^\\+?(?:880|0)1[3-9]\\d{8}$'\n",
    "    is_valid = re.match(pattern, number) is not None\n",
    "    result_text = \"Valid Bangladesh number\" if is_valid else \"Invalid Bangladesh number\"\n",
    "    return number,result_text\n",
    "\n",
    "def validate_usa_telephone_number(number):\n",
    "    pattern = r'^\\+?1\\s*\\(\\d{3}\\)\\s*\\d{3}-\\d{4}$'\n",
    "    is_valid = re.match(pattern, number) is not None\n",
    "    result_text = \"Valid USA number\" if is_valid else \"Invalid USA number\"\n",
    "    return number, result_text\n",
    "\n",
    "def validate_password(password):\n",
    "    pattern = r'^(?=.*[A-Z])(?=.*[a-z])(?=.*\\d)(?=.*[@$!%*?&])[A-Za-z\\d@$!%*?&]{16}$'\n",
    "    is_valid = re.match(pattern, password) is not None\n",
    "    result_text = \"Valid password\" if is_valid else \"Incorrect password\"\n",
    "    return password, result_text\n",
    "\n",
    "# Testing the functions\n",
    "print(\"Email check:\",validate_email('saraniyalakshmigmail.com')) \n",
    "print(\"Bangladesh number check\",validate_bangladesh_mobile_number('+8801712345678')) \n",
    "print(\"USA number check\",validate_usa_telephone_number('+1 (12) 456-7890')) \n",
    "print(\"Password check\",validate_password('Miracles@1234567'))  \n"
   ]
  }
 ],
 "metadata": {
  "kernelspec": {
   "display_name": "Python 3",
   "language": "python",
   "name": "python3"
  },
  "language_info": {
   "codemirror_mode": {
    "name": "ipython",
    "version": 3
   },
   "file_extension": ".py",
   "mimetype": "text/x-python",
   "name": "python",
   "nbconvert_exporter": "python",
   "pygments_lexer": "ipython3",
   "version": "3.12.2"
  }
 },
 "nbformat": 4,
 "nbformat_minor": 2
}
